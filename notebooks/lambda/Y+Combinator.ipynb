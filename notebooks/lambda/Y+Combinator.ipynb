{
 "cells": [
  {
   "cell_type": "markdown",
   "metadata": {},
   "source": [
    "# Y Combinator - Recursion\n",
    "Having developed numerals, Boolean algebra and arithmetic for $\\lambda$-Calculus, the only element remaining to make it Turing complete is infinite loops. We can achieve this through recursion.\n",
    "\n",
    "First, let's define what we had previously through our other notebook on Church encoding, namely numerals, Boolean algebra, arithmetic and a conditional statement to check if zero."
   ]
  },
  {
   "cell_type": "code",
   "execution_count": 88,
   "metadata": {},
   "outputs": [],
   "source": [
    "#Booleans\n",
    "T = lambda t: lambda f: t\n",
    "F = lambda t: lambda f: f\n",
    "\n",
    "#use annotations to tell what function is returned in verifying the result\n",
    "T.__annotations__['T'] = True\n",
    "F.__annotations__['F'] = False\n",
    "\n",
    "#also can tell by converting to Python bool type, cheating a bit though\n",
    "to_bool = lambda boolean: boolean(True)(False)\n",
    "\n",
    "#Boolean algebra\n",
    "NOT = lambda boolean: boolean(F)(T)\n",
    "AND = lambda bool1: lambda bool2: bool1(bool2)(F)\n",
    "OR = lambda bool1: lambda bool2: bool1(bool1)(bool2)"
   ]
  },
  {
   "cell_type": "code",
   "execution_count": 89,
   "metadata": {},
   "outputs": [],
   "source": [
    "#Numerals\n",
    "#identity\n",
    "I = lambda x: x\n",
    "\n",
    "#numerals\n",
    "N0 = lambda f: lambda x: x\n",
    "N1 = lambda f: lambda x: f(x)\n",
    "N2 = lambda f: lambda x: f(f(x))\n",
    "N3 = lambda f: lambda x: f(f(f(x)))\n",
    "N4 = lambda f: lambda x: f(f(f(f(x))))\n",
    "\n",
    "#use annotations to tell what function is returned in verifying the result\n",
    "I.__annotations__['I'] = \"I\"\n",
    "N0.__annotations__['0'] = 0\n",
    "N1.__annotations__['1'] = 1\n",
    "N2.__annotations__['2'] = 2\n",
    "N3.__annotations__['3'] = 3\n",
    "N4.__annotations__['4'] = 4\n",
    "\n",
    "#also by converting to Python int type by counting function calls\n",
    "#we pass the increment function into the numeral to count the calls\n",
    "to_int = lambda n: n(lambda integer: integer + 1)(0)"
   ]
  },
  {
   "cell_type": "code",
   "execution_count": 90,
   "metadata": {},
   "outputs": [],
   "source": [
    "#Arithmetic\n",
    "#Count\n",
    "S = lambda n: lambda f: lambda x: f(n(f)(x))\n",
    "ADDS = lambda m: lambda n: m(S)(n)\n",
    "MUL = lambda m: lambda n: m(ADD(n))(N0)\n",
    "POW = lambda e: lambda b: e(MUL(b))(N1)"
   ]
  },
  {
   "cell_type": "code",
   "execution_count": 91,
   "metadata": {},
   "outputs": [],
   "source": [
    "#Too hard to derive, define and use\n",
    "#Kleene's predecessor\n",
    "PRED = lambda n: lambda f: lambda x: n (lambda g: lambda h: h (g (f))) (lambda y: x) (lambda x: x)\n",
    "#Subtraction\n",
    "SUB = lambda n: lambda m: m (PRED) (n)"
   ]
  },
  {
   "cell_type": "code",
   "execution_count": 92,
   "metadata": {},
   "outputs": [
    {
     "data": {
      "text/plain": [
       "1"
      ]
     },
     "execution_count": 92,
     "metadata": {},
     "output_type": "execute_result"
    }
   ],
   "source": [
    "to_int(SUB(N2)(N1))"
   ]
  },
  {
   "cell_type": "code",
   "execution_count": 93,
   "metadata": {},
   "outputs": [
    {
     "data": {
      "text/plain": [
       "2"
      ]
     },
     "execution_count": 93,
     "metadata": {},
     "output_type": "execute_result"
    }
   ],
   "source": [
    "to_int(PRED(N3))"
   ]
  },
  {
   "cell_type": "code",
   "execution_count": 94,
   "metadata": {},
   "outputs": [],
   "source": [
    "#check for zero\n",
    "Z = lambda x: x(lambda x: F)(T)"
   ]
  },
  {
   "cell_type": "code",
   "execution_count": 95,
   "metadata": {},
   "outputs": [
    {
     "data": {
      "text/plain": [
       "{'F': False}"
      ]
     },
     "execution_count": 95,
     "metadata": {},
     "output_type": "execute_result"
    }
   ],
   "source": [
    "Z(N2).__annotations__"
   ]
  },
  {
   "cell_type": "markdown",
   "metadata": {},
   "source": [
    "## Combinators"
   ]
  },
  {
   "cell_type": "markdown",
   "metadata": {},
   "source": [
    "Just as for Boolean algebra and linear algebra, where we define a minimal set of operators that can replicate all of the operations necessary in that system, we can define a non-redundant or minimal set of combinators, i.e. $\\lambda$ expressions without free variables that combine arguments in different ways. \n",
    "\n",
    "In this way, we can use combinators as the atoms of $\\lambda$-Calculus and problem can be solved or algorithms constructed like molecules from these atomic structures just as atoms from the periodic table in chemistry. This modular approach was pioneered by Haskell Curry and he provided distinct names for these expressions and reformulated $\\lambda$-Calculus based on them.\n",
    "\n",
    "More information can be found in the $\\lambda$-Calculus chapter of the book."
   ]
  },
  {
   "cell_type": "markdown",
   "metadata": {},
   "source": [
    "## Self Application"
   ]
  },
  {
   "cell_type": "markdown",
   "metadata": {},
   "source": [
    "The surprising result is that in a system where only unary, pure functions exist, we can still create the notion of recursion using the Mockingbird combinator $\\mathcal{M}$ as a starting point\n",
    "\n",
    "$$\\mathcal{M} := \\lambda f.\\ ff$$\n",
    "We can actually redefine OR to reuse the Mockingbird, noting the slightly alternative definition above from the previous notebook."
   ]
  },
  {
   "cell_type": "code",
   "execution_count": 96,
   "metadata": {},
   "outputs": [],
   "source": [
    "M = lambda f: f(f)\n",
    "ORM = lambda bool1: lambda bool2: M(bool1)(bool2)"
   ]
  },
  {
   "cell_type": "code",
   "execution_count": 97,
   "metadata": {
    "scrolled": true
   },
   "outputs": [
    {
     "data": {
      "text/plain": [
       "{'T': True}"
      ]
     },
     "execution_count": 97,
     "metadata": {},
     "output_type": "execute_result"
    }
   ],
   "source": [
    "OR(F)(T).__annotations__"
   ]
  },
  {
   "cell_type": "code",
   "execution_count": 98,
   "metadata": {},
   "outputs": [
    {
     "data": {
      "text/plain": [
       "{'T': True}"
      ]
     },
     "execution_count": 98,
     "metadata": {},
     "output_type": "execute_result"
    }
   ],
   "source": [
    "ORM(F)(T).__annotations__"
   ]
  },
  {
   "cell_type": "markdown",
   "metadata": {},
   "source": [
    "We can see the initial signs of recursion (and indeed the halting problem) when we try to self apply the Mockingbird to itself"
   ]
  },
  {
   "cell_type": "code",
   "execution_count": 99,
   "metadata": {},
   "outputs": [
    {
     "name": "stdout",
     "output_type": "stream",
     "text": [
      "maximum recursion depth exceeded\n"
     ]
    }
   ],
   "source": [
    "try:\n",
    "    M(M)\n",
    "except RuntimeError as err:\n",
    "    print(err)"
   ]
  },
  {
   "cell_type": "markdown",
   "metadata": {},
   "source": [
    "But we need something more useful including passing our own function and handling stopping conditions to prevent stack overflows. What we need is a recursive combinator that takes in a function $f$, but calls $f$ again with the recursive combinator only if the base condition is not satisfied. If the base condition is satisfied, we would like to stop calling it itself and allow $\\beta$ reduction. This is exactly what the $\\mathcal{Y}$ combinator allows us to do and is defined as\n",
    "$$\n",
    "\\mathcal{Y}   := \\lambda f.\\ (\\lambda x.\\ f(xx))(\\lambda x.\\ f(xx))\n",
    "$$\n",
    "which can also be written in terms of the Mockingbird\n",
    "$$\n",
    "\\mathcal{Y}   := \\lambda f.\\ \\mathcal{M}(\\lambda x.\\ f(\\mathcal{M}x))\n",
    "$$\n",
    "We can see how this might work from a top level $\\beta$ reduction involving some combinator $\\mathcal{R}$ as\n",
    "\\begin{align}\n",
    " \\mathcal{Y}\\mathcal{R}   &= (\\lambda f.\\ (\\lambda x.\\ f(xx))(\\lambda x.\\ f(xx)))\\mathcal{R}\\\\\n",
    "                    &= (\\lambda x.\\ \\mathcal{R}(xx))(\\lambda x.\\ \\mathcal{R}(xx))\\nonumber\\\\\n",
    "                    &= \\mathcal{R}((\\lambda x.\\ \\mathcal{R}(xx))(\\lambda x.\\ \\mathcal{R}(xx)))\\nonumber\\\\\n",
    "                    &= \\mathcal{R}(\\mathcal{Y}\\mathcal{R})\n",
    "\\end{align}\n",
    "To demonstrate this amazing structure in a practical sense, we will show how to build the factorial function $n!$ for the number $n$. Consider the recursive form of the factorial function\n",
    "\\begin{align}\n",
    " n! = \n",
    "    \\begin{cases}\n",
    "    1,          &\\textrm{if } n=0\\\\\n",
    "    n(n-1)!,    &\\textrm{for } n>0.\n",
    "    \\end{cases}\n",
    "\\end{align}\n",
    "In standard procedural Python we might write it as"
   ]
  },
  {
   "cell_type": "code",
   "execution_count": 100,
   "metadata": {},
   "outputs": [],
   "source": [
    "def fac(n):\n",
    "    '''\n",
    "    Recursive factorial function\n",
    "    '''\n",
    "    if n == 0:\n",
    "        return 1\n",
    "    return n*fac(n-1)"
   ]
  },
  {
   "cell_type": "code",
   "execution_count": 101,
   "metadata": {},
   "outputs": [
    {
     "data": {
      "text/plain": [
       "120"
      ]
     },
     "execution_count": 101,
     "metadata": {},
     "output_type": "execute_result"
    }
   ],
   "source": [
    "fac(5)"
   ]
  },
  {
   "cell_type": "markdown",
   "metadata": {},
   "source": [
    "We can attempt to convert the above procedural function directly to $\\lambda$-Calculus for which we might (incorrectly) write\n",
    "\\begin{equation}\n",
    " \\textrm{FAC} = \\lambda n.\\ \\textrm{if } \\textrm{Z}(n)(1)\\ \\textrm{MUL}(n)(\\textrm{FAC}(\\textrm{PRED}(n)))\n",
    "\\end{equation}\n",
    "Instead, because functions in $\\lambda$-Calculus are anonymous, we can write the above correctly using the $\\mathcal{Y}$ combinator as\n",
    "\\begin{eqnarray}\n",
    " \\textrm{FAC} &=& \\mathcal{Y}( \\lambda f.\\ \\lambda n.\\ \\textrm{Z}(n)(1)\\ \\textrm{MUL}(n)(f(\\textrm{PRED}(n))))\\\\\n",
    " &=& \\mathcal{Y}\\mathcal{R}\n",
    "\\end{eqnarray}\n",
    "so that \n",
    "\\begin{eqnarray}\n",
    " \\mathcal{R} = \\lambda f.\\ \\lambda n.\\ Z(n)(1)\\ \\textrm{MUL}(n)(f(\\textrm{PRED}(n)))\n",
    "\\end{eqnarray}\n",
    "For example, we can compute $n!$ directly as"
   ]
  },
  {
   "cell_type": "code",
   "execution_count": 155,
   "metadata": {},
   "outputs": [],
   "source": [
    "#Y = (lambda f: f(f))(lambda f: le(lambda x: f(f)(x) ))\n",
    "#Y = lambda f: (lambda x: f(x(x)))(lambda x: f(x(x)))\n",
    "#Y = lambda L: L(lambda x:Y(L)(x))\n",
    "#Y(lambda f: lambda n: 1 if n <= 0 else n*f(n-1))(5)\n",
    "#FAC = Y(lambda f: lambda n: Z(n)(1)(f))\n",
    "#Y = ((lambda h: lambda F: F(lambda x:h(h)(F)(x))) (lambda h: lambda F: F(lambda x:h(h)(F)(x))))\n",
    "#R = lambda f: lambda n: Z(n)(1)(F)\n",
    "#R = lambda f: lambda n: Z(n)(1)(MUL(n)(f(PRED(n))))\n",
    "#FAC = lambda n: Y(R)(n)\n",
    "\n",
    "# λf.(λx.f (x x)) (λx.f (x x))\n",
    "#Use Z combinator since Python doesn't support lazy evals\n",
    "ZZ = lambda f: (lambda x: f(lambda *args: x(x)(*args)))(lambda x: f(lambda *args: x(x)(*args)))\n",
    "#R = lambda f: lambda n: Z(n)(N1)(F)\n",
    "#R = lambda f: lambda n: Z(n)(N1)(MUL(n)(f(PRED(n))))\n",
    "FAC = ZZ(lambda f: lambda n: ((N1) if ((to_int) ((Z) (n))) else ( MUL(n)((f)(PRED(n))) ) ))\n",
    "#FAC = lambda n: ZZ(R)(n)"
   ]
  },
  {
   "cell_type": "code",
   "execution_count": 154,
   "metadata": {},
   "outputs": [
    {
     "data": {
      "text/plain": [
       "6"
      ]
     },
     "execution_count": 154,
     "metadata": {},
     "output_type": "execute_result"
    }
   ],
   "source": [
    "#FAC(N1).__annotations__\n",
    "to_int(FAC(N3))"
   ]
  },
  {
   "cell_type": "code",
   "execution_count": null,
   "metadata": {},
   "outputs": [],
   "source": []
  }
 ],
 "metadata": {
  "kernelspec": {
   "display_name": "Python 3",
   "language": "python",
   "name": "python3"
  },
  "language_info": {
   "codemirror_mode": {
    "name": "ipython",
    "version": 3
   },
   "file_extension": ".py",
   "mimetype": "text/x-python",
   "name": "python",
   "nbconvert_exporter": "python",
   "pygments_lexer": "ipython3",
   "version": "3.5.2"
  }
 },
 "nbformat": 4,
 "nbformat_minor": 2
}
